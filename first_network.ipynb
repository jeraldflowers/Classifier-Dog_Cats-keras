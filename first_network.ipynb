{
  "nbformat": 4,
  "nbformat_minor": 0,
  "metadata": {
    "colab": {
      "provenance": [],
      "authorship_tag": "ABX9TyPUn7I5/hF0ggmCZ/ju8T4N",
      "include_colab_link": true
    },
    "kernelspec": {
      "name": "python3",
      "display_name": "Python 3"
    },
    "language_info": {
      "name": "python"
    }
  },
  "cells": [
    {
      "cell_type": "markdown",
      "metadata": {
        "id": "view-in-github",
        "colab_type": "text"
      },
      "source": [
        "<a href=\"https://colab.research.google.com/github/jeraldflowers/Classifier-Dog_Cats-keras/blob/main/first_network.ipynb\" target=\"_parent\"><img src=\"https://colab.research.google.com/assets/colab-badge.svg\" alt=\"Open In Colab\"/></a>"
      ]
    },
    {
      "cell_type": "code",
      "execution_count": null,
      "metadata": {
        "id": "SKZD5Ayk7T3u"
      },
      "outputs": [],
      "source": [
        "import tensorflow as tf\n",
        "from tensorflow.keras.datasets import fashion_mnist\n",
        "from tensorflow.keras.layers import Conv2D, Dropout, MaxPooling2D, Flatten, Dense\n",
        "import numpy as np\n",
        "import matplotlib.pyplot as plt\n"
      ]
    },
    {
      "cell_type": "code",
      "source": [
        "(train_images, train_labels),(test_images, test_labels) = fashion_mnist.load_data()"
      ],
      "metadata": {
        "colab": {
          "base_uri": "https://localhost:8080/"
        },
        "id": "Rqd_qnv8Mboq",
        "outputId": "4a6c7cc3-ff2c-4261-aa22-943a93ee9fff"
      },
      "execution_count": null,
      "outputs": [
        {
          "output_type": "stream",
          "name": "stdout",
          "text": [
            "Downloading data from https://storage.googleapis.com/tensorflow/tf-keras-datasets/train-labels-idx1-ubyte.gz\n",
            "32768/29515 [=================================] - 0s 0us/step\n",
            "40960/29515 [=========================================] - 0s 0us/step\n",
            "Downloading data from https://storage.googleapis.com/tensorflow/tf-keras-datasets/train-images-idx3-ubyte.gz\n",
            "26427392/26421880 [==============================] - 0s 0us/step\n",
            "26435584/26421880 [==============================] - 0s 0us/step\n",
            "Downloading data from https://storage.googleapis.com/tensorflow/tf-keras-datasets/t10k-labels-idx1-ubyte.gz\n",
            "16384/5148 [===============================================================================================] - 0s 0us/step\n",
            "Downloading data from https://storage.googleapis.com/tensorflow/tf-keras-datasets/t10k-images-idx3-ubyte.gz\n",
            "4423680/4422102 [==============================] - 0s 0us/step\n",
            "4431872/4422102 [==============================] - 0s 0us/step\n"
          ]
        }
      ]
    },
    {
      "cell_type": "code",
      "source": [
        "train_images.shape"
      ],
      "metadata": {
        "colab": {
          "base_uri": "https://localhost:8080/"
        },
        "id": "XR7_hmLuNNBT",
        "outputId": "d95172d2-da46-4fc0-9536-df16e2435c43"
      },
      "execution_count": null,
      "outputs": [
        {
          "output_type": "execute_result",
          "data": {
            "text/plain": [
              "(60000, 28, 28)"
            ]
          },
          "metadata": {},
          "execution_count": 3
        }
      ]
    },
    {
      "cell_type": "code",
      "source": [
        "plt.imshow(train_images[0])"
      ],
      "metadata": {
        "colab": {
          "base_uri": "https://localhost:8080/",
          "height": 282
        },
        "id": "FmKQ_tk6NPyw",
        "outputId": "52214967-ba7d-4f84-8e9c-70750f05c363"
      },
      "execution_count": null,
      "outputs": [
        {
          "output_type": "execute_result",
          "data": {
            "text/plain": [
              "<matplotlib.image.AxesImage at 0x7f3389b45450>"
            ]
          },
          "metadata": {},
          "execution_count": 4
        },
        {
          "output_type": "display_data",
          "data": {
            "text/plain": [
              "<Figure size 432x288 with 1 Axes>"
            ],
            "image/png": "[encoded data removed]"
          },
          "metadata": {
            "needs_background": "light"
          }
        }
      ]
    },
    {
      "cell_type": "code",
      "source": [
        "train_images = train_images.astype('float32') / 255\n",
        "test_images = test_images.astype('float32') / 255"
      ],
      "metadata": {
        "id": "Gos9WnXdNYeG"
      },
      "execution_count": null,
      "outputs": []
    },
    {
      "cell_type": "code",
      "source": [
        "train_images = train_images.reshape(train_images.shape[0],28,28,1)\n",
        "test_images = test_images.reshape(test_images.shape[0],28,28,1)"
      ],
      "metadata": {
        "id": "sCNBWLbkN4-j"
      },
      "execution_count": null,
      "outputs": []
    },
    {
      "cell_type": "code",
      "source": [
        "train_labels = tf.keras.utils.to_categorical(train_labels, 10)\n",
        "test_labels = tf.keras.utils.to_categorical(test_labels, 10)"
      ],
      "metadata": {
        "id": "_SrcrESWOWAR"
      },
      "execution_count": null,
      "outputs": []
    },
    {
      "cell_type": "markdown",
      "source": [
        "## Data Models"
      ],
      "metadata": {
        "id": "M3MFCRuaOxnA"
      }
    },
    {
      "cell_type": "code",
      "source": [
        "model = tf.keras.Sequential()\n",
        "model.add(Conv2D(filters=64, kernel_size=2, padding='same', activation='relu', input_shape=(28, 28, 1)))\n",
        "model.add(MaxPooling2D(pool_size=2))\n",
        "model.add(Dropout(0.3))\n",
        "model.add(Conv2D(filters=32, kernel_size=2, padding='same', activation='relu'))\n",
        "model.add(MaxPooling2D(pool_size=2))\n",
        "model.add(Dropout(0.3))\n",
        "model.add(Flatten())\n",
        "model.add(Dense(256, activation='relu'))\n",
        "model.add(Dropout(0.5))\n",
        "model.add(Dense(10, activation='softmax'))\n",
        "model.summary()"
      ],
      "metadata": {
        "colab": {
          "base_uri": "https://localhost:8080/"
        },
        "id": "wGcg6ONROw34",
        "outputId": "d2010b78-3554-4278-f0b8-166dccce2684"
      },
      "execution_count": null,
      "outputs": [
        {
          "output_type": "stream",
          "name": "stdout",
          "text": [
            "Model: \"sequential\"\n",
            "_________________________________________________________________\n",
            " Layer (type)                Output Shape              Param #   \n",
            "=================================================================\n",
            " conv2d (Conv2D)             (None, 28, 28, 64)        320       \n",
            "                                                                 \n",
            " max_pooling2d (MaxPooling2D  (None, 14, 14, 64)       0         \n",
            " )                                                               \n",
            "                                                                 \n",
            " dropout (Dropout)           (None, 14, 14, 64)        0         \n",
            "                                                                 \n",
            " conv2d_1 (Conv2D)           (None, 14, 14, 32)        8224      \n",
            "                                                                 \n",
            " max_pooling2d_1 (MaxPooling  (None, 7, 7, 32)         0         \n",
            " 2D)                                                             \n",
            "                                                                 \n",
            " dropout_1 (Dropout)         (None, 7, 7, 32)          0         \n",
            "                                                                 \n",
            " flatten (Flatten)           (None, 1568)              0         \n",
            "                                                                 \n",
            " dense (Dense)               (None, 256)               401664    \n",
            "                                                                 \n",
            " dropout_2 (Dropout)         (None, 256)               0         \n",
            "                                                                 \n",
            " dense_1 (Dense)             (None, 10)                2570      \n",
            "                                                                 \n",
            "=================================================================\n",
            "Total params: 412,778\n",
            "Trainable params: 412,778\n",
            "Non-trainable params: 0\n",
            "_________________________________________________________________\n"
          ]
        }
      ]
    },
    {
      "cell_type": "markdown",
      "source": [
        "## Compile - Train"
      ],
      "metadata": {
        "id": "5taEoIwXTUTh"
      }
    },
    {
      "cell_type": "code",
      "source": [
        "model.compile(loss='categorical_crossentropy',\n",
        "              optimizer='rmsprop',\n",
        "              metrics=['accuracy'])"
      ],
      "metadata": {
        "id": "cJr27BfZPYGd"
      },
      "execution_count": null,
      "outputs": []
    },
    {
      "cell_type": "code",
      "source": [
        "model.fit(train_images, train_labels, batch_size=64, epochs=10)"
      ],
      "metadata": {
        "colab": {
          "base_uri": "https://localhost:8080/"
        },
        "id": "LM-XFcV9Tt8w",
        "outputId": "a5b85a1b-e569-4944-e8be-23dda4028f72"
      },
      "execution_count": null,
      "outputs": [
        {
          "output_type": "stream",
          "name": "stdout",
          "text": [
            "Epoch 1/10\n",
            "938/938 [==============================] - 16s 5ms/step - loss: 0.5657 - accuracy: 0.7941\n",
            "Epoch 2/10\n",
            "938/938 [==============================] - 4s 5ms/step - loss: 0.3954 - accuracy: 0.8602\n",
            "Epoch 3/10\n",
            "938/938 [==============================] - 4s 5ms/step - loss: 0.3560 - accuracy: 0.8727\n",
            "Epoch 4/10\n",
            "938/938 [==============================] - 4s 5ms/step - loss: 0.3366 - accuracy: 0.8792\n",
            "Epoch 5/10\n",
            "938/938 [==============================] - 4s 5ms/step - loss: 0.3268 - accuracy: 0.8835\n",
            "Epoch 6/10\n",
            "938/938 [==============================] - 4s 5ms/step - loss: 0.3225 - accuracy: 0.8853\n",
            "Epoch 7/10\n",
            "938/938 [==============================] - 4s 5ms/step - loss: 0.3197 - accuracy: 0.8872\n",
            "Epoch 8/10\n",
            "938/938 [==============================] - 4s 5ms/step - loss: 0.3153 - accuracy: 0.8900\n",
            "Epoch 9/10\n",
            "938/938 [==============================] - 4s 4ms/step - loss: 0.3161 - accuracy: 0.8903\n",
            "Epoch 10/10\n",
            "938/938 [==============================] - 5s 5ms/step - loss: 0.3177 - accuracy: 0.8897\n"
          ]
        },
        {
          "output_type": "execute_result",
          "data": {
            "text/plain": [
              "<keras.callbacks.History at 0x7f3380126490>"
            ]
          },
          "metadata": {},
          "execution_count": 10
        }
      ]
    },
    {
      "cell_type": "code",
      "source": [
        "model.evaluate(test_images, test_labels, verbose=0)"
      ],
      "metadata": {
        "colab": {
          "base_uri": "https://localhost:8080/"
        },
        "id": "yuwnkHxlT2yZ",
        "outputId": "f178ccbd-068b-4a25-ded9-3a43c447c4a2"
      },
      "execution_count": null,
      "outputs": [
        {
          "output_type": "execute_result",
          "data": {
            "text/plain": [
              "[0.29872190952301025, 0.9027000069618225]"
            ]
          },
          "metadata": {},
          "execution_count": 11
        }
      ]
    },
    {
      "cell_type": "code",
      "source": [
        "early = tf.keras.callbacks.EarlyStopping(monitor='accuracy', patience=1)\n",
        "model.fit(train_images,\n",
        "          train_labels, \n",
        "          batch_size=64, \n",
        "          callbacks=[early], \n",
        "          epochs=10)"
      ],
      "metadata": {
        "id": "2eI-BwLmVR__",
        "colab": {
          "base_uri": "https://localhost:8080/"
        },
        "outputId": "d0367f43-132c-4d8a-ab72-7b036594c40f"
      },
      "execution_count": null,
      "outputs": [
        {
          "output_type": "stream",
          "name": "stdout",
          "text": [
            "Epoch 1/10\n",
            "938/938 [==============================] - 5s 5ms/step - loss: 0.3182 - accuracy: 0.8904\n",
            "Epoch 2/10\n",
            "938/938 [==============================] - 4s 5ms/step - loss: 0.3194 - accuracy: 0.8901\n"
          ]
        },
        {
          "output_type": "execute_result",
          "data": {
            "text/plain": [
              "<keras.callbacks.History at 0x7f32d294d090>"
            ]
          },
          "metadata": {},
          "execution_count": 12
        }
      ]
    },
    {
      "cell_type": "code",
      "source": [
        "checkpoint = tf.keras.callbacks.ModelCheckpoint(filepath='mi_primer_red_conv.hdf5',\n",
        "                                   verbose=1,\n",
        "                                   monitor='accuracy',\n",
        "                                   save_best_only=True)\n",
        "model.fit(train_images,\n",
        "          train_labels, \n",
        "          batch_size=64, \n",
        "          callbacks=[checkpoint], \n",
        "          epochs=10)"
      ],
      "metadata": {
        "colab": {
          "base_uri": "https://localhost:8080/"
        },
        "id": "2TdwdnFFuKxI",
        "outputId": "a10d8abd-1038-4b26-834c-9a68b7a45974"
      },
      "execution_count": null,
      "outputs": [
        {
          "output_type": "stream",
          "name": "stdout",
          "text": [
            "Epoch 1/10\n",
            "930/938 [============================>.] - ETA: 0s - loss: 0.3421 - accuracy: 0.8839\n",
            "Epoch 1: accuracy improved from -inf to 0.88402, saving model to mi_primer_red_conv.hdf5\n",
            "938/938 [==============================] - 4s 5ms/step - loss: 0.3416 - accuracy: 0.8840\n",
            "Epoch 2/10\n",
            "937/938 [============================>.] - ETA: 0s - loss: 0.3443 - accuracy: 0.8823\n",
            "Epoch 2: accuracy did not improve from 0.88402\n",
            "938/938 [==============================] - 4s 5ms/step - loss: 0.3442 - accuracy: 0.8823\n",
            "Epoch 3/10\n",
            "932/938 [============================>.] - ETA: 0s - loss: 0.3447 - accuracy: 0.8838\n",
            "Epoch 3: accuracy did not improve from 0.88402\n",
            "938/938 [==============================] - 4s 5ms/step - loss: 0.3441 - accuracy: 0.8839\n",
            "Epoch 4/10\n",
            "933/938 [============================>.] - ETA: 0s - loss: 0.3444 - accuracy: 0.8810\n",
            "Epoch 4: accuracy did not improve from 0.88402\n",
            "938/938 [==============================] - 4s 5ms/step - loss: 0.3446 - accuracy: 0.8809\n",
            "Epoch 5/10\n",
            "938/938 [==============================] - ETA: 0s - loss: 0.3457 - accuracy: 0.8814\n",
            "Epoch 5: accuracy did not improve from 0.88402\n",
            "938/938 [==============================] - 4s 5ms/step - loss: 0.3457 - accuracy: 0.8814\n",
            "Epoch 6/10\n",
            "936/938 [============================>.] - ETA: 0s - loss: 0.3518 - accuracy: 0.8814\n",
            "Epoch 6: accuracy did not improve from 0.88402\n",
            "938/938 [==============================] - 4s 5ms/step - loss: 0.3519 - accuracy: 0.8813\n",
            "Epoch 7/10\n",
            "934/938 [============================>.] - ETA: 0s - loss: 0.3513 - accuracy: 0.8796\n",
            "Epoch 7: accuracy did not improve from 0.88402\n",
            "938/938 [==============================] - 4s 5ms/step - loss: 0.3514 - accuracy: 0.8796\n",
            "Epoch 8/10\n",
            "928/938 [============================>.] - ETA: 0s - loss: 0.3534 - accuracy: 0.8800\n",
            "Epoch 8: accuracy did not improve from 0.88402\n",
            "938/938 [==============================] - 4s 5ms/step - loss: 0.3537 - accuracy: 0.8798\n",
            "Epoch 9/10\n",
            "930/938 [============================>.] - ETA: 0s - loss: 0.3596 - accuracy: 0.8782\n",
            "Epoch 9: accuracy did not improve from 0.88402\n",
            "938/938 [==============================] - 4s 5ms/step - loss: 0.3599 - accuracy: 0.8780\n",
            "Epoch 10/10\n",
            "927/938 [============================>.] - ETA: 0s - loss: 0.3562 - accuracy: 0.8797\n",
            "Epoch 10: accuracy did not improve from 0.88402\n",
            "938/938 [==============================] - 4s 5ms/step - loss: 0.3556 - accuracy: 0.8799\n"
          ]
        },
        {
          "output_type": "execute_result",
          "data": {
            "text/plain": [
              "<keras.callbacks.History at 0x7f325c443390>"
            ]
          },
          "metadata": {},
          "execution_count": 14
        }
      ]
    },
    {
      "cell_type": "code",
      "source": [
        "model2 = model\n",
        "model2.load_weights('./mi_primer_red_conv.hdf5')\n"
      ],
      "metadata": {
        "id": "O1Yf7SRWu3R9"
      },
      "execution_count": null,
      "outputs": []
    },
    {
      "cell_type": "code",
      "source": [
        "model2.evaluate(test_images, test_labels)"
      ],
      "metadata": {
        "colab": {
          "base_uri": "https://localhost:8080/"
        },
        "id": "h4NXRGY7wsUS",
        "outputId": "300d4fc4-112e-4886-dd24-7796e58ccf41"
      },
      "execution_count": null,
      "outputs": [
        {
          "output_type": "stream",
          "name": "stdout",
          "text": [
            "313/313 [==============================] - 1s 5ms/step - loss: 0.2923 - accuracy: 0.8970\n"
          ]
        },
        {
          "output_type": "execute_result",
          "data": {
            "text/plain": [
              "[0.2923278510570526, 0.8970000147819519]"
            ]
          },
          "metadata": {},
          "execution_count": 16
        }
      ]
    },
    {
      "cell_type": "code",
      "source": [],
      "metadata": {
        "id": "4DMSFV52wxZC"
      },
      "execution_count": null,
      "outputs": []
    }
  ]
}