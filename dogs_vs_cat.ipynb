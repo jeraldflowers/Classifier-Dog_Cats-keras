{
  "nbformat": 4,
  "nbformat_minor": 0,
  "metadata": {
    "colab": {
      "provenance": [],
      "authorship_tag": "ABX9TyMhio55s4ItpL5xnzphBJmZ",
      "include_colab_link": true
    },
    "kernelspec": {
      "name": "python3",
      "display_name": "Python 3"
    },
    "language_info": {
      "name": "python"
    },
    "accelerator": "GPU"
  },
  "cells": [
    {
      "cell_type": "markdown",
      "metadata": {
        "id": "view-in-github",
        "colab_type": "text"
      },
      "source": [
        "<a href=\"https://colab.research.google.com/github/jeraldflowers/Classifier-Dog_Cats-keras/blob/main/dogs_vs_cat.ipynb\" target=\"_parent\"><img src=\"https://colab.research.google.com/assets/colab-badge.svg\" alt=\"Open In Colab\"/></a>"
      ]
    },
    {
      "cell_type": "code",
      "execution_count": 1,
      "metadata": {
        "id": "Mur76BNwsfhz"
      },
      "outputs": [],
      "source": [
        "import tensorflow as tf\n",
        "from tensorflow.keras.layers import Conv2D, MaxPool2D, Dropout, Flatten, Dense, BatchNormalization\n",
        "from tensorflow.keras.preprocessing.image import ImageDataGenerator\n",
        "from tensorflow.keras.callbacks import ModelCheckpoint, EarlyStopping\n",
        "from tensorflow.keras import models, optimizers, regularizers "
      ]
    },
    {
      "cell_type": "code",
      "source": [
        "model = models.Sequential()\n",
        "\n",
        "model.add(Conv2D(32, (3,3), activation='relu', input_shape=(150,150,3)))\n",
        "model.add(MaxPool2D((2,2)))\n",
        "model.add(BatchNormalization())\n",
        "\n",
        "model.add(Conv2D(64, (3,3), activation='relu'))\n",
        "model.add(MaxPool2D((2,2)))\n",
        "model.add(BatchNormalization())\n",
        "\n",
        "model.add(Conv2D(128, (3,3), activation='relu'))\n",
        "model.add(MaxPool2D((2,2)))\n",
        "model.add(BatchNormalization())\n",
        "\n",
        "model.add(Conv2D(256, (3,3), activation='relu'))\n",
        "model.add(MaxPool2D((2,2)))\n",
        "model.add(BatchNormalization())\n",
        "\n",
        "model.add(Conv2D(512, (3,3), activation='relu', padding='same'))\n",
        "model.add(MaxPool2D((2,2)))\n",
        "model.add(BatchNormalization())\n",
        "\n",
        "model.add(Conv2D(512, (3,3), activation='relu', padding='same'))\n",
        "model.add(MaxPool2D((2,2)))\n",
        "model.add(BatchNormalization())\n",
        "\n",
        "\n",
        "model.add(Flatten())\n",
        "model.add(Dropout(0.3))\n",
        "model.add(Dense(512, activation='relu'))\n",
        "model.add(Dense(1, activation='sigmoid'))\n",
        "\n",
        "model.summary()"
      ],
      "metadata": {
        "id": "b1UeTV8vxWS2"
      },
      "execution_count": null,
      "outputs": []
    },
    {
      "cell_type": "code",
      "source": [
        "ImageDataGenerator(\n",
        "    rescale=1./255,\n",
        "    rotation_range=40,\n",
        "    width_shift_range=0.2,\n",
        "    height_shift_range=0.2,\n",
        "    shear_range=0.2,\n",
        "    horizontal_flip=True\n",
        ")"
      ],
      "metadata": {
        "colab": {
          "base_uri": "https://localhost:8080/"
        },
        "id": "9w1xIUg6AGZy",
        "outputId": "75655abb-ce93-41d0-cd2b-a686554379e9"
      },
      "execution_count": 5,
      "outputs": [
        {
          "output_type": "execute_result",
          "data": {
            "text/plain": [
              "<keras.preprocessing.image.ImageDataGenerator at 0x7f7d91af3850>"
            ]
          },
          "metadata": {},
          "execution_count": 5
        }
      ]
    },
    {
      "cell_type": "code",
      "source": [
        "train_datagen = ImageDataGenerator(\n",
        "    rescale=1./255,\n",
        "    rotation_range=40,\n",
        "    width_shift_range=0.2,\n",
        "    height_shift_range=0.2,\n",
        "    shear_range=0.2,\n",
        "    zoom_range=0.2,\n",
        "    horizontal_flip=True\n",
        ")"
      ],
      "metadata": {
        "id": "8oLY8IVzyzJN"
      },
      "execution_count": 6,
      "outputs": []
    },
    {
      "cell_type": "code",
      "source": [
        "test_datagen = ImageDataGenerator(rescale=1./255)"
      ],
      "metadata": {
        "id": "26zGUIMCzRRo"
      },
      "execution_count": 7,
      "outputs": []
    },
    {
      "cell_type": "code",
      "source": [
        "from google.colab import drive\n",
        "drive.mount('/gdrive')"
      ],
      "metadata": {
        "colab": {
          "base_uri": "https://localhost:8080/"
        },
        "id": "ZSxf7rnt_XOC",
        "outputId": "78af94dd-992f-4376-ad2e-096aa8701e13"
      },
      "execution_count": 8,
      "outputs": [
        {
          "output_type": "stream",
          "name": "stdout",
          "text": [
            "Mounted at /gdrive\n"
          ]
        }
      ]
    },
    {
      "cell_type": "code",
      "source": [
        "%cd '/gdrive/My Drive'"
      ],
      "metadata": {
        "colab": {
          "base_uri": "https://localhost:8080/"
        },
        "id": "ozULMVhZ_Yzd",
        "outputId": "afdb7de6-906b-4904-ca37-c0e92743fb18"
      },
      "execution_count": 9,
      "outputs": [
        {
          "output_type": "stream",
          "name": "stdout",
          "text": [
            "/gdrive/My Drive\n"
          ]
        }
      ]
    },
    {
      "cell_type": "code",
      "source": [
        "%cd '/gdrive/My Drive/dataset-cats-dogs/cats_and_dogs'"
      ],
      "metadata": {
        "colab": {
          "base_uri": "https://localhost:8080/"
        },
        "id": "5mibR7c5_faK",
        "outputId": "f83c5ae4-8aac-4a3f-c54c-168cd13f7d7d"
      },
      "execution_count": 13,
      "outputs": [
        {
          "output_type": "stream",
          "name": "stdout",
          "text": [
            "/gdrive/My Drive/dataset-cats-dogs/cats_and_dogs\n"
          ]
        }
      ]
    },
    {
      "cell_type": "code",
      "source": [
        "!ls"
      ],
      "metadata": {
        "colab": {
          "base_uri": "https://localhost:8080/"
        },
        "id": "Fvo4j71O_h9F",
        "outputId": "22e47627-e825-4424-ecbc-6b8c1429e969"
      },
      "execution_count": 14,
      "outputs": [
        {
          "output_type": "stream",
          "name": "stdout",
          "text": [
            "test  train  validation\n"
          ]
        }
      ]
    },
    {
      "cell_type": "code",
      "source": [
        "train_generator = train_datagen.flow_from_directory('/gdrive/My Drive/dataset-cats-dogs/cats_and_dogs/train',\n",
        "                                   target_size=(150,150),\n",
        "                                   batch_size=32,\n",
        "                                   class_mode='binary'\n",
        "                                   )\n",
        "\n",
        "validation_generator = test_datagen.flow_from_directory('/gdrive/My Drive/dataset-cats-dogs/cats_and_dogs/validation',\n",
        "                                   target_size=(150,150),\n",
        "                                   batch_size=32,\n",
        "                                   class_mode='binary'\n",
        "                                   )"
      ],
      "metadata": {
        "colab": {
          "base_uri": "https://localhost:8080/"
        },
        "id": "xnezlQGMzhLX",
        "outputId": "43637464-0bf5-4f4a-aae8-29e040902ba5"
      },
      "execution_count": 15,
      "outputs": [
        {
          "output_type": "stream",
          "name": "stdout",
          "text": [
            "Found 2000 images belonging to 2 classes.\n",
            "Found 1000 images belonging to 2 classes.\n"
          ]
        }
      ]
    },
    {
      "cell_type": "code",
      "source": [
        "checkpoint = ModelCheckpoint('model_dogs_cats.hdf5', monitor='val_accuracy', verbose=1, save_best_only=True)"
      ],
      "metadata": {
        "id": "2-aqRB8D0evx"
      },
      "execution_count": 16,
      "outputs": []
    },
    {
      "cell_type": "code",
      "source": [
        "model.compile(loss='binary_crossentropy', optimizer=optimizers.Adam(),\n",
        "              metrics=['accuracy'])"
      ],
      "metadata": {
        "id": "b45RmG7b0xwK"
      },
      "execution_count": 17,
      "outputs": []
    },
    {
      "cell_type": "code",
      "source": [
        "hist = model.fit(train_generator, steps_per_epoch=2000//32,\n",
        "                 epochs=100,\n",
        "                 validation_data=validation_generator,\n",
        "                 validation_steps=1000//32,\n",
        "                 callbacks=[checkpoint])"
      ],
      "metadata": {
        "colab": {
          "base_uri": "https://localhost:8080/"
        },
        "id": "vkARE0bg1Al4",
        "outputId": "8c4062b6-258c-4517-f6d6-f86faa7e78f2"
      },
      "execution_count": 19,
      "outputs": [
        {
          "output_type": "stream",
          "name": "stdout",
          "text": [
            "Epoch 1/100\n",
            "62/62 [==============================] - ETA: 0s - loss: 0.7938 - accuracy: 0.5777\n",
            "Epoch 1: val_accuracy improved from -inf to 0.50000, saving model to model_dogs_cats.hdf5\n",
            "62/62 [==============================] - 51s 835ms/step - loss: 0.7938 - accuracy: 0.5777 - val_loss: 1.5472 - val_accuracy: 0.5000\n",
            "Epoch 2/100\n",
            "62/62 [==============================] - ETA: 0s - loss: 0.7792 - accuracy: 0.5915\n",
            "Epoch 2: val_accuracy did not improve from 0.50000\n",
            "62/62 [==============================] - 22s 356ms/step - loss: 0.7792 - accuracy: 0.5915 - val_loss: 1.1937 - val_accuracy: 0.4990\n",
            "Epoch 3/100\n",
            "62/62 [==============================] - ETA: 0s - loss: 0.7111 - accuracy: 0.6169\n",
            "Epoch 3: val_accuracy improved from 0.50000 to 0.52621, saving model to model_dogs_cats.hdf5\n",
            "62/62 [==============================] - 23s 378ms/step - loss: 0.7111 - accuracy: 0.6169 - val_loss: 1.0567 - val_accuracy: 0.5262\n",
            "Epoch 4/100\n",
            "62/62 [==============================] - ETA: 0s - loss: 0.6442 - accuracy: 0.6590\n",
            "Epoch 4: val_accuracy did not improve from 0.52621\n",
            "62/62 [==============================] - 22s 350ms/step - loss: 0.6442 - accuracy: 0.6590 - val_loss: 0.8920 - val_accuracy: 0.5141\n",
            "Epoch 5/100\n",
            "62/62 [==============================] - ETA: 0s - loss: 0.6232 - accuracy: 0.6651\n",
            "Epoch 5: val_accuracy did not improve from 0.52621\n",
            "62/62 [==============================] - 21s 345ms/step - loss: 0.6232 - accuracy: 0.6651 - val_loss: 1.2311 - val_accuracy: 0.5141\n",
            "Epoch 6/100\n",
            "62/62 [==============================] - ETA: 0s - loss: 0.6200 - accuracy: 0.6804\n",
            "Epoch 6: val_accuracy improved from 0.52621 to 0.53831, saving model to model_dogs_cats.hdf5\n",
            "62/62 [==============================] - 24s 388ms/step - loss: 0.6200 - accuracy: 0.6804 - val_loss: 0.8635 - val_accuracy: 0.5383\n",
            "Epoch 7/100\n",
            "62/62 [==============================] - ETA: 0s - loss: 0.5905 - accuracy: 0.6946\n",
            "Epoch 7: val_accuracy improved from 0.53831 to 0.61290, saving model to model_dogs_cats.hdf5\n",
            "62/62 [==============================] - 23s 369ms/step - loss: 0.5905 - accuracy: 0.6946 - val_loss: 0.8040 - val_accuracy: 0.6129\n",
            "Epoch 8/100\n",
            "62/62 [==============================] - ETA: 0s - loss: 0.5838 - accuracy: 0.7048\n",
            "Epoch 8: val_accuracy improved from 0.61290 to 0.67540, saving model to model_dogs_cats.hdf5\n",
            "62/62 [==============================] - 23s 365ms/step - loss: 0.5838 - accuracy: 0.7048 - val_loss: 0.6151 - val_accuracy: 0.6754\n",
            "Epoch 9/100\n",
            "62/62 [==============================] - ETA: 0s - loss: 0.5838 - accuracy: 0.7053\n",
            "Epoch 9: val_accuracy improved from 0.67540 to 0.72782, saving model to model_dogs_cats.hdf5\n",
            "62/62 [==============================] - 24s 390ms/step - loss: 0.5838 - accuracy: 0.7053 - val_loss: 0.5336 - val_accuracy: 0.7278\n",
            "Epoch 10/100\n",
            "62/62 [==============================] - ETA: 0s - loss: 0.5450 - accuracy: 0.7302\n",
            "Epoch 10: val_accuracy improved from 0.72782 to 0.74597, saving model to model_dogs_cats.hdf5\n",
            "62/62 [==============================] - 23s 368ms/step - loss: 0.5450 - accuracy: 0.7302 - val_loss: 0.5347 - val_accuracy: 0.7460\n",
            "Epoch 11/100\n",
            "62/62 [==============================] - ETA: 0s - loss: 0.5587 - accuracy: 0.7379\n",
            "Epoch 11: val_accuracy did not improve from 0.74597\n",
            "62/62 [==============================] - 22s 355ms/step - loss: 0.5587 - accuracy: 0.7379 - val_loss: 0.5782 - val_accuracy: 0.7046\n",
            "Epoch 12/100\n",
            "62/62 [==============================] - ETA: 0s - loss: 0.5245 - accuracy: 0.7495\n",
            "Epoch 12: val_accuracy did not improve from 0.74597\n",
            "62/62 [==============================] - 22s 358ms/step - loss: 0.5245 - accuracy: 0.7495 - val_loss: 0.5280 - val_accuracy: 0.7319\n",
            "Epoch 13/100\n",
            "62/62 [==============================] - ETA: 0s - loss: 0.5070 - accuracy: 0.7551\n",
            "Epoch 13: val_accuracy did not improve from 0.74597\n",
            "62/62 [==============================] - 23s 364ms/step - loss: 0.5070 - accuracy: 0.7551 - val_loss: 0.6194 - val_accuracy: 0.6855\n",
            "Epoch 14/100\n",
            "62/62 [==============================] - ETA: 0s - loss: 0.5234 - accuracy: 0.7429\n",
            "Epoch 14: val_accuracy did not improve from 0.74597\n",
            "62/62 [==============================] - 22s 350ms/step - loss: 0.5234 - accuracy: 0.7429 - val_loss: 0.5564 - val_accuracy: 0.7268\n",
            "Epoch 15/100\n",
            "62/62 [==============================] - ETA: 0s - loss: 0.4943 - accuracy: 0.7591\n",
            "Epoch 15: val_accuracy improved from 0.74597 to 0.75302, saving model to model_dogs_cats.hdf5\n",
            "62/62 [==============================] - 24s 386ms/step - loss: 0.4943 - accuracy: 0.7591 - val_loss: 0.4935 - val_accuracy: 0.7530\n",
            "Epoch 16/100\n",
            "62/62 [==============================] - ETA: 0s - loss: 0.4850 - accuracy: 0.7744\n",
            "Epoch 16: val_accuracy did not improve from 0.75302\n",
            "62/62 [==============================] - 22s 355ms/step - loss: 0.4850 - accuracy: 0.7744 - val_loss: 0.5282 - val_accuracy: 0.7389\n",
            "Epoch 17/100\n",
            "62/62 [==============================] - ETA: 0s - loss: 0.4898 - accuracy: 0.7647\n",
            "Epoch 17: val_accuracy did not improve from 0.75302\n",
            "62/62 [==============================] - 22s 351ms/step - loss: 0.4898 - accuracy: 0.7647 - val_loss: 0.5653 - val_accuracy: 0.7278\n",
            "Epoch 18/100\n",
            "62/62 [==============================] - ETA: 0s - loss: 0.4755 - accuracy: 0.7724\n",
            "Epoch 18: val_accuracy did not improve from 0.75302\n",
            "62/62 [==============================] - 22s 356ms/step - loss: 0.4755 - accuracy: 0.7724 - val_loss: 0.5426 - val_accuracy: 0.7167\n",
            "Epoch 19/100\n",
            "62/62 [==============================] - ETA: 0s - loss: 0.4711 - accuracy: 0.7729\n",
            "Epoch 19: val_accuracy did not improve from 0.75302\n",
            "62/62 [==============================] - 23s 379ms/step - loss: 0.4711 - accuracy: 0.7729 - val_loss: 0.4742 - val_accuracy: 0.7450\n",
            "Epoch 20/100\n",
            "62/62 [==============================] - ETA: 0s - loss: 0.4333 - accuracy: 0.8008\n",
            "Epoch 20: val_accuracy improved from 0.75302 to 0.76008, saving model to model_dogs_cats.hdf5\n",
            "62/62 [==============================] - 25s 403ms/step - loss: 0.4333 - accuracy: 0.8008 - val_loss: 0.4959 - val_accuracy: 0.7601\n",
            "Epoch 21/100\n",
            "62/62 [==============================] - ETA: 0s - loss: 0.4561 - accuracy: 0.7896\n",
            "Epoch 21: val_accuracy improved from 0.76008 to 0.78125, saving model to model_dogs_cats.hdf5\n",
            "62/62 [==============================] - 23s 374ms/step - loss: 0.4561 - accuracy: 0.7896 - val_loss: 0.4758 - val_accuracy: 0.7812\n",
            "Epoch 22/100\n",
            "62/62 [==============================] - ETA: 0s - loss: 0.4380 - accuracy: 0.7886\n",
            "Epoch 22: val_accuracy did not improve from 0.78125\n",
            "62/62 [==============================] - 22s 362ms/step - loss: 0.4380 - accuracy: 0.7886 - val_loss: 0.6964 - val_accuracy: 0.6381\n",
            "Epoch 23/100\n",
            "62/62 [==============================] - ETA: 0s - loss: 0.4356 - accuracy: 0.8013\n",
            "Epoch 23: val_accuracy did not improve from 0.78125\n",
            "62/62 [==============================] - 22s 348ms/step - loss: 0.4356 - accuracy: 0.8013 - val_loss: 0.4928 - val_accuracy: 0.7540\n",
            "Epoch 24/100\n",
            "62/62 [==============================] - ETA: 0s - loss: 0.4438 - accuracy: 0.7957\n",
            "Epoch 24: val_accuracy did not improve from 0.78125\n",
            "62/62 [==============================] - 21s 346ms/step - loss: 0.4438 - accuracy: 0.7957 - val_loss: 0.5842 - val_accuracy: 0.6976\n",
            "Epoch 25/100\n",
            "62/62 [==============================] - ETA: 0s - loss: 0.4169 - accuracy: 0.8028\n",
            "Epoch 25: val_accuracy did not improve from 0.78125\n",
            "62/62 [==============================] - 22s 349ms/step - loss: 0.4169 - accuracy: 0.8028 - val_loss: 0.4827 - val_accuracy: 0.7530\n",
            "Epoch 26/100\n",
            "62/62 [==============================] - ETA: 0s - loss: 0.4352 - accuracy: 0.7983\n",
            "Epoch 26: val_accuracy improved from 0.78125 to 0.78327, saving model to model_dogs_cats.hdf5\n",
            "62/62 [==============================] - 23s 378ms/step - loss: 0.4352 - accuracy: 0.7983 - val_loss: 0.4486 - val_accuracy: 0.7833\n",
            "Epoch 27/100\n",
            "62/62 [==============================] - ETA: 0s - loss: 0.4080 - accuracy: 0.8140\n",
            "Epoch 27: val_accuracy did not improve from 0.78327\n",
            "62/62 [==============================] - 24s 387ms/step - loss: 0.4080 - accuracy: 0.8140 - val_loss: 0.5710 - val_accuracy: 0.7399\n",
            "Epoch 28/100\n",
            "62/62 [==============================] - ETA: 0s - loss: 0.4120 - accuracy: 0.8232\n",
            "Epoch 28: val_accuracy did not improve from 0.78327\n",
            "62/62 [==============================] - 22s 361ms/step - loss: 0.4120 - accuracy: 0.8232 - val_loss: 0.4974 - val_accuracy: 0.7560\n",
            "Epoch 29/100\n",
            "62/62 [==============================] - ETA: 0s - loss: 0.3651 - accuracy: 0.8369\n",
            "Epoch 29: val_accuracy improved from 0.78327 to 0.82964, saving model to model_dogs_cats.hdf5\n",
            "62/62 [==============================] - 23s 373ms/step - loss: 0.3651 - accuracy: 0.8369 - val_loss: 0.4112 - val_accuracy: 0.8296\n",
            "Epoch 30/100\n",
            "62/62 [==============================] - ETA: 0s - loss: 0.3955 - accuracy: 0.8283\n",
            "Epoch 30: val_accuracy did not improve from 0.82964\n",
            "62/62 [==============================] - 22s 359ms/step - loss: 0.3955 - accuracy: 0.8283 - val_loss: 0.4027 - val_accuracy: 0.8175\n",
            "Epoch 31/100\n",
            "62/62 [==============================] - ETA: 0s - loss: 0.3801 - accuracy: 0.8323\n",
            "Epoch 31: val_accuracy did not improve from 0.82964\n",
            "62/62 [==============================] - 24s 386ms/step - loss: 0.3801 - accuracy: 0.8323 - val_loss: 0.3770 - val_accuracy: 0.8206\n",
            "Epoch 32/100\n",
            "62/62 [==============================] - ETA: 0s - loss: 0.3678 - accuracy: 0.8283\n",
            "Epoch 32: val_accuracy did not improve from 0.82964\n",
            "62/62 [==============================] - 22s 357ms/step - loss: 0.3678 - accuracy: 0.8283 - val_loss: 0.5871 - val_accuracy: 0.7188\n",
            "Epoch 33/100\n",
            "62/62 [==============================] - ETA: 0s - loss: 0.3562 - accuracy: 0.8430\n",
            "Epoch 33: val_accuracy did not improve from 0.82964\n",
            "62/62 [==============================] - 22s 357ms/step - loss: 0.3562 - accuracy: 0.8430 - val_loss: 0.5240 - val_accuracy: 0.7571\n",
            "Epoch 34/100\n",
            "62/62 [==============================] - ETA: 0s - loss: 0.3581 - accuracy: 0.8389\n",
            "Epoch 34: val_accuracy did not improve from 0.82964\n",
            "62/62 [==============================] - 22s 354ms/step - loss: 0.3581 - accuracy: 0.8389 - val_loss: 0.5324 - val_accuracy: 0.7601\n",
            "Epoch 35/100\n",
            "62/62 [==============================] - ETA: 0s - loss: 0.3502 - accuracy: 0.8425\n",
            "Epoch 35: val_accuracy did not improve from 0.82964\n",
            "62/62 [==============================] - 23s 378ms/step - loss: 0.3502 - accuracy: 0.8425 - val_loss: 0.3839 - val_accuracy: 0.8286\n",
            "Epoch 36/100\n",
            "62/62 [==============================] - ETA: 0s - loss: 0.3536 - accuracy: 0.8476\n",
            "Epoch 36: val_accuracy did not improve from 0.82964\n",
            "62/62 [==============================] - 22s 356ms/step - loss: 0.3536 - accuracy: 0.8476 - val_loss: 0.4396 - val_accuracy: 0.7974\n",
            "Epoch 37/100\n",
            "62/62 [==============================] - ETA: 0s - loss: 0.3282 - accuracy: 0.8598\n",
            "Epoch 37: val_accuracy did not improve from 0.82964\n",
            "62/62 [==============================] - 22s 354ms/step - loss: 0.3282 - accuracy: 0.8598 - val_loss: 0.7735 - val_accuracy: 0.5544\n",
            "Epoch 38/100\n",
            "62/62 [==============================] - ETA: 0s - loss: 0.3360 - accuracy: 0.8455\n",
            "Epoch 38: val_accuracy did not improve from 0.82964\n",
            "62/62 [==============================] - 23s 371ms/step - loss: 0.3360 - accuracy: 0.8455 - val_loss: 0.5396 - val_accuracy: 0.7571\n",
            "Epoch 39/100\n",
            "62/62 [==============================] - ETA: 0s - loss: 0.3321 - accuracy: 0.8532\n",
            "Epoch 39: val_accuracy improved from 0.82964 to 0.83972, saving model to model_dogs_cats.hdf5\n",
            "62/62 [==============================] - 23s 369ms/step - loss: 0.3321 - accuracy: 0.8532 - val_loss: 0.3867 - val_accuracy: 0.8397\n",
            "Epoch 40/100\n",
            "62/62 [==============================] - ETA: 0s - loss: 0.2929 - accuracy: 0.8745\n",
            "Epoch 40: val_accuracy improved from 0.83972 to 0.84577, saving model to model_dogs_cats.hdf5\n",
            "62/62 [==============================] - 23s 372ms/step - loss: 0.2929 - accuracy: 0.8745 - val_loss: 0.3440 - val_accuracy: 0.8458\n",
            "Epoch 41/100\n",
            "62/62 [==============================] - ETA: 0s - loss: 0.3223 - accuracy: 0.8598\n",
            "Epoch 41: val_accuracy did not improve from 0.84577\n",
            "62/62 [==============================] - 23s 372ms/step - loss: 0.3223 - accuracy: 0.8598 - val_loss: 0.5071 - val_accuracy: 0.7893\n",
            "Epoch 42/100\n",
            "62/62 [==============================] - ETA: 0s - loss: 0.2931 - accuracy: 0.8735\n",
            "Epoch 42: val_accuracy did not improve from 0.84577\n",
            "62/62 [==============================] - 22s 354ms/step - loss: 0.2931 - accuracy: 0.8735 - val_loss: 0.3684 - val_accuracy: 0.8377\n",
            "Epoch 43/100\n",
            "62/62 [==============================] - ETA: 0s - loss: 0.3018 - accuracy: 0.8720\n",
            "Epoch 43: val_accuracy improved from 0.84577 to 0.88105, saving model to model_dogs_cats.hdf5\n",
            "62/62 [==============================] - 23s 370ms/step - loss: 0.3018 - accuracy: 0.8720 - val_loss: 0.2852 - val_accuracy: 0.8810\n",
            "Epoch 44/100\n",
            "62/62 [==============================] - ETA: 0s - loss: 0.2613 - accuracy: 0.8897\n",
            "Epoch 44: val_accuracy did not improve from 0.88105\n",
            "62/62 [==============================] - 22s 357ms/step - loss: 0.2613 - accuracy: 0.8897 - val_loss: 0.4021 - val_accuracy: 0.8095\n",
            "Epoch 45/100\n",
            "62/62 [==============================] - ETA: 0s - loss: 0.2952 - accuracy: 0.8684\n",
            "Epoch 45: val_accuracy did not improve from 0.88105\n",
            "62/62 [==============================] - 23s 366ms/step - loss: 0.2952 - accuracy: 0.8684 - val_loss: 0.4485 - val_accuracy: 0.7964\n",
            "Epoch 46/100\n",
            "62/62 [==============================] - ETA: 0s - loss: 0.2706 - accuracy: 0.8852\n",
            "Epoch 46: val_accuracy did not improve from 0.88105\n",
            "62/62 [==============================] - 22s 354ms/step - loss: 0.2706 - accuracy: 0.8852 - val_loss: 0.6351 - val_accuracy: 0.7440\n",
            "Epoch 47/100\n",
            "62/62 [==============================] - ETA: 0s - loss: 0.2779 - accuracy: 0.8857\n",
            "Epoch 47: val_accuracy did not improve from 0.88105\n",
            "62/62 [==============================] - 21s 345ms/step - loss: 0.2779 - accuracy: 0.8857 - val_loss: 0.3096 - val_accuracy: 0.8579\n",
            "Epoch 48/100\n",
            "62/62 [==============================] - ETA: 0s - loss: 0.2602 - accuracy: 0.8892\n",
            "Epoch 48: val_accuracy did not improve from 0.88105\n",
            "62/62 [==============================] - 23s 364ms/step - loss: 0.2602 - accuracy: 0.8892 - val_loss: 0.3439 - val_accuracy: 0.8528\n",
            "Epoch 49/100\n",
            "62/62 [==============================] - ETA: 0s - loss: 0.2433 - accuracy: 0.8968\n",
            "Epoch 49: val_accuracy did not improve from 0.88105\n",
            "62/62 [==============================] - 22s 348ms/step - loss: 0.2433 - accuracy: 0.8968 - val_loss: 0.3329 - val_accuracy: 0.8790\n",
            "Epoch 50/100\n",
            "62/62 [==============================] - ETA: 0s - loss: 0.2451 - accuracy: 0.8938\n",
            "Epoch 50: val_accuracy did not improve from 0.88105\n",
            "62/62 [==============================] - 21s 347ms/step - loss: 0.2451 - accuracy: 0.8938 - val_loss: 0.3369 - val_accuracy: 0.8629\n",
            "Epoch 51/100\n",
            "62/62 [==============================] - ETA: 0s - loss: 0.2496 - accuracy: 0.8999\n",
            "Epoch 51: val_accuracy did not improve from 0.88105\n",
            "62/62 [==============================] - 24s 382ms/step - loss: 0.2496 - accuracy: 0.8999 - val_loss: 0.5402 - val_accuracy: 0.7278\n",
            "Epoch 52/100\n",
            "62/62 [==============================] - ETA: 0s - loss: 0.2555 - accuracy: 0.8963\n",
            "Epoch 52: val_accuracy did not improve from 0.88105\n",
            "62/62 [==============================] - 21s 345ms/step - loss: 0.2555 - accuracy: 0.8963 - val_loss: 0.5374 - val_accuracy: 0.7722\n",
            "Epoch 53/100\n",
            "62/62 [==============================] - ETA: 0s - loss: 0.2409 - accuracy: 0.8979\n",
            "Epoch 53: val_accuracy did not improve from 0.88105\n",
            "62/62 [==============================] - 22s 348ms/step - loss: 0.2409 - accuracy: 0.8979 - val_loss: 0.2797 - val_accuracy: 0.8770\n",
            "Epoch 54/100\n",
            "62/62 [==============================] - ETA: 0s - loss: 0.2521 - accuracy: 0.8826\n",
            "Epoch 54: val_accuracy improved from 0.88105 to 0.88609, saving model to model_dogs_cats.hdf5\n",
            "62/62 [==============================] - 23s 379ms/step - loss: 0.2521 - accuracy: 0.8826 - val_loss: 0.2755 - val_accuracy: 0.8861\n",
            "Epoch 55/100\n",
            "62/62 [==============================] - ETA: 0s - loss: 0.2217 - accuracy: 0.9085\n",
            "Epoch 55: val_accuracy did not improve from 0.88609\n",
            "62/62 [==============================] - 22s 354ms/step - loss: 0.2217 - accuracy: 0.9085 - val_loss: 0.2835 - val_accuracy: 0.8760\n",
            "Epoch 56/100\n",
            "62/62 [==============================] - ETA: 0s - loss: 0.2226 - accuracy: 0.9055\n",
            "Epoch 56: val_accuracy did not improve from 0.88609\n",
            "62/62 [==============================] - 22s 350ms/step - loss: 0.2226 - accuracy: 0.9055 - val_loss: 0.3261 - val_accuracy: 0.8498\n",
            "Epoch 57/100\n",
            "62/62 [==============================] - ETA: 0s - loss: 0.2360 - accuracy: 0.8979\n",
            "Epoch 57: val_accuracy did not improve from 0.88609\n",
            "62/62 [==============================] - 22s 357ms/step - loss: 0.2360 - accuracy: 0.8979 - val_loss: 0.4406 - val_accuracy: 0.8276\n",
            "Epoch 58/100\n",
            "62/62 [==============================] - ETA: 0s - loss: 0.2358 - accuracy: 0.9040\n",
            "Epoch 58: val_accuracy did not improve from 0.88609\n",
            "62/62 [==============================] - 23s 374ms/step - loss: 0.2358 - accuracy: 0.9040 - val_loss: 0.3075 - val_accuracy: 0.8730\n",
            "Epoch 59/100\n",
            "62/62 [==============================] - ETA: 0s - loss: 0.1930 - accuracy: 0.9223\n",
            "Epoch 59: val_accuracy did not improve from 0.88609\n",
            "62/62 [==============================] - 22s 354ms/step - loss: 0.1930 - accuracy: 0.9223 - val_loss: 0.4310 - val_accuracy: 0.8417\n",
            "Epoch 60/100\n",
            "62/62 [==============================] - ETA: 0s - loss: 0.2270 - accuracy: 0.8994\n",
            "Epoch 60: val_accuracy did not improve from 0.88609\n",
            "62/62 [==============================] - 21s 346ms/step - loss: 0.2270 - accuracy: 0.8994 - val_loss: 0.4769 - val_accuracy: 0.8085\n",
            "Epoch 61/100\n",
            "62/62 [==============================] - ETA: 0s - loss: 0.2282 - accuracy: 0.8963\n",
            "Epoch 61: val_accuracy did not improve from 0.88609\n",
            "62/62 [==============================] - 21s 346ms/step - loss: 0.2282 - accuracy: 0.8963 - val_loss: 0.3871 - val_accuracy: 0.8468\n",
            "Epoch 62/100\n",
            "62/62 [==============================] - ETA: 0s - loss: 0.2143 - accuracy: 0.9029\n",
            "Epoch 62: val_accuracy did not improve from 0.88609\n",
            "62/62 [==============================] - 22s 350ms/step - loss: 0.2143 - accuracy: 0.9029 - val_loss: 0.3058 - val_accuracy: 0.8639\n",
            "Epoch 63/100\n",
            "62/62 [==============================] - ETA: 0s - loss: 0.2368 - accuracy: 0.8994\n",
            "Epoch 63: val_accuracy improved from 0.88609 to 0.89315, saving model to model_dogs_cats.hdf5\n",
            "62/62 [==============================] - 23s 369ms/step - loss: 0.2368 - accuracy: 0.8994 - val_loss: 0.2659 - val_accuracy: 0.8931\n",
            "Epoch 64/100\n",
            "62/62 [==============================] - ETA: 0s - loss: 0.1962 - accuracy: 0.9162\n",
            "Epoch 64: val_accuracy did not improve from 0.89315\n",
            "62/62 [==============================] - 23s 364ms/step - loss: 0.1962 - accuracy: 0.9162 - val_loss: 0.5137 - val_accuracy: 0.8125\n",
            "Epoch 65/100\n",
            "62/62 [==============================] - ETA: 0s - loss: 0.1982 - accuracy: 0.9207\n",
            "Epoch 65: val_accuracy did not improve from 0.89315\n",
            "62/62 [==============================] - 22s 350ms/step - loss: 0.1982 - accuracy: 0.9207 - val_loss: 0.3346 - val_accuracy: 0.8609\n",
            "Epoch 66/100\n",
            "62/62 [==============================] - ETA: 0s - loss: 0.2087 - accuracy: 0.9101\n",
            "Epoch 66: val_accuracy did not improve from 0.89315\n",
            "62/62 [==============================] - 21s 347ms/step - loss: 0.2087 - accuracy: 0.9101 - val_loss: 0.3092 - val_accuracy: 0.8609\n",
            "Epoch 67/100\n",
            "62/62 [==============================] - ETA: 0s - loss: 0.2002 - accuracy: 0.9131\n",
            "Epoch 67: val_accuracy did not improve from 0.89315\n",
            "62/62 [==============================] - 22s 348ms/step - loss: 0.2002 - accuracy: 0.9131 - val_loss: 0.3741 - val_accuracy: 0.8427\n",
            "Epoch 68/100\n",
            "62/62 [==============================] - ETA: 0s - loss: 0.1873 - accuracy: 0.9202\n",
            "Epoch 68: val_accuracy did not improve from 0.89315\n",
            "62/62 [==============================] - 21s 347ms/step - loss: 0.1873 - accuracy: 0.9202 - val_loss: 0.2931 - val_accuracy: 0.8780\n",
            "Epoch 69/100\n",
            "62/62 [==============================] - ETA: 0s - loss: 0.2095 - accuracy: 0.9177\n",
            "Epoch 69: val_accuracy did not improve from 0.89315\n",
            "62/62 [==============================] - 21s 346ms/step - loss: 0.2095 - accuracy: 0.9177 - val_loss: 0.2616 - val_accuracy: 0.8921\n",
            "Epoch 70/100\n",
            "62/62 [==============================] - ETA: 0s - loss: 0.1890 - accuracy: 0.9278\n",
            "Epoch 70: val_accuracy did not improve from 0.89315\n",
            "62/62 [==============================] - 22s 352ms/step - loss: 0.1890 - accuracy: 0.9278 - val_loss: 0.4047 - val_accuracy: 0.8377\n",
            "Epoch 71/100\n",
            "62/62 [==============================] - ETA: 0s - loss: 0.1822 - accuracy: 0.9238\n",
            "Epoch 71: val_accuracy did not improve from 0.89315\n",
            "62/62 [==============================] - 22s 348ms/step - loss: 0.1822 - accuracy: 0.9238 - val_loss: 0.3021 - val_accuracy: 0.8770\n",
            "Epoch 72/100\n",
            "62/62 [==============================] - ETA: 0s - loss: 0.1854 - accuracy: 0.9238\n",
            "Epoch 72: val_accuracy did not improve from 0.89315\n",
            "62/62 [==============================] - 22s 355ms/step - loss: 0.1854 - accuracy: 0.9238 - val_loss: 0.4424 - val_accuracy: 0.8387\n",
            "Epoch 73/100\n",
            "62/62 [==============================] - ETA: 0s - loss: 0.1908 - accuracy: 0.9259\n",
            "Epoch 73: val_accuracy did not improve from 0.89315\n",
            "62/62 [==============================] - 22s 356ms/step - loss: 0.1908 - accuracy: 0.9259 - val_loss: 0.3033 - val_accuracy: 0.8770\n",
            "Epoch 74/100\n",
            "62/62 [==============================] - ETA: 0s - loss: 0.2016 - accuracy: 0.9177\n",
            "Epoch 74: val_accuracy did not improve from 0.89315\n",
            "62/62 [==============================] - 22s 354ms/step - loss: 0.2016 - accuracy: 0.9177 - val_loss: 0.3896 - val_accuracy: 0.8448\n",
            "Epoch 75/100\n",
            "62/62 [==============================] - ETA: 0s - loss: 0.1591 - accuracy: 0.9400\n",
            "Epoch 75: val_accuracy did not improve from 0.89315\n",
            "62/62 [==============================] - 22s 354ms/step - loss: 0.1591 - accuracy: 0.9400 - val_loss: 0.3260 - val_accuracy: 0.8800\n",
            "Epoch 76/100\n",
            "62/62 [==============================] - ETA: 0s - loss: 0.1732 - accuracy: 0.9273\n",
            "Epoch 76: val_accuracy did not improve from 0.89315\n",
            "62/62 [==============================] - 22s 358ms/step - loss: 0.1732 - accuracy: 0.9273 - val_loss: 0.4254 - val_accuracy: 0.8347\n",
            "Epoch 77/100\n",
            "62/62 [==============================] - ETA: 0s - loss: 0.1831 - accuracy: 0.9253\n",
            "Epoch 77: val_accuracy did not improve from 0.89315\n",
            "62/62 [==============================] - 22s 361ms/step - loss: 0.1831 - accuracy: 0.9253 - val_loss: 0.2997 - val_accuracy: 0.8690\n",
            "Epoch 78/100\n",
            "62/62 [==============================] - ETA: 0s - loss: 0.1495 - accuracy: 0.9405\n",
            "Epoch 78: val_accuracy did not improve from 0.89315\n",
            "62/62 [==============================] - 23s 372ms/step - loss: 0.1495 - accuracy: 0.9405 - val_loss: 0.3615 - val_accuracy: 0.8649\n",
            "Epoch 79/100\n",
            "62/62 [==============================] - ETA: 0s - loss: 0.1879 - accuracy: 0.9217\n",
            "Epoch 79: val_accuracy did not improve from 0.89315\n",
            "62/62 [==============================] - 22s 356ms/step - loss: 0.1879 - accuracy: 0.9217 - val_loss: 0.6467 - val_accuracy: 0.7903\n",
            "Epoch 80/100\n",
            "62/62 [==============================] - ETA: 0s - loss: 0.1747 - accuracy: 0.9278\n",
            "Epoch 80: val_accuracy did not improve from 0.89315\n",
            "62/62 [==============================] - 22s 353ms/step - loss: 0.1747 - accuracy: 0.9278 - val_loss: 0.3343 - val_accuracy: 0.8851\n",
            "Epoch 81/100\n",
            "62/62 [==============================] - ETA: 0s - loss: 0.1506 - accuracy: 0.9446\n",
            "Epoch 81: val_accuracy did not improve from 0.89315\n",
            "62/62 [==============================] - 22s 356ms/step - loss: 0.1506 - accuracy: 0.9446 - val_loss: 0.3135 - val_accuracy: 0.8589\n",
            "Epoch 82/100\n",
            "62/62 [==============================] - ETA: 0s - loss: 0.1524 - accuracy: 0.9334\n",
            "Epoch 82: val_accuracy did not improve from 0.89315\n",
            "62/62 [==============================] - 22s 352ms/step - loss: 0.1524 - accuracy: 0.9334 - val_loss: 0.3342 - val_accuracy: 0.8720\n",
            "Epoch 83/100\n",
            "62/62 [==============================] - ETA: 0s - loss: 0.1693 - accuracy: 0.9345\n",
            "Epoch 83: val_accuracy did not improve from 0.89315\n",
            "62/62 [==============================] - 23s 369ms/step - loss: 0.1693 - accuracy: 0.9345 - val_loss: 0.3075 - val_accuracy: 0.8710\n",
            "Epoch 84/100\n",
            "62/62 [==============================] - ETA: 0s - loss: 0.1686 - accuracy: 0.9319\n",
            "Epoch 84: val_accuracy did not improve from 0.89315\n",
            "62/62 [==============================] - 22s 350ms/step - loss: 0.1686 - accuracy: 0.9319 - val_loss: 0.3932 - val_accuracy: 0.8690\n",
            "Epoch 85/100\n",
            "62/62 [==============================] - ETA: 0s - loss: 0.1712 - accuracy: 0.9334\n",
            "Epoch 85: val_accuracy improved from 0.89315 to 0.90827, saving model to model_dogs_cats.hdf5\n",
            "62/62 [==============================] - 22s 363ms/step - loss: 0.1712 - accuracy: 0.9334 - val_loss: 0.2460 - val_accuracy: 0.9083\n",
            "Epoch 86/100\n",
            "62/62 [==============================] - ETA: 0s - loss: 0.1514 - accuracy: 0.9431\n",
            "Epoch 86: val_accuracy did not improve from 0.90827\n",
            "62/62 [==============================] - 22s 350ms/step - loss: 0.1514 - accuracy: 0.9431 - val_loss: 0.2512 - val_accuracy: 0.8881\n",
            "Epoch 87/100\n",
            "62/62 [==============================] - ETA: 0s - loss: 0.1391 - accuracy: 0.9461\n",
            "Epoch 87: val_accuracy did not improve from 0.90827\n",
            "62/62 [==============================] - 23s 366ms/step - loss: 0.1391 - accuracy: 0.9461 - val_loss: 0.2926 - val_accuracy: 0.8972\n",
            "Epoch 88/100\n",
            "62/62 [==============================] - ETA: 0s - loss: 0.1708 - accuracy: 0.9350\n",
            "Epoch 88: val_accuracy did not improve from 0.90827\n",
            "62/62 [==============================] - 21s 343ms/step - loss: 0.1708 - accuracy: 0.9350 - val_loss: 0.3228 - val_accuracy: 0.8740\n",
            "Epoch 89/100\n",
            "62/62 [==============================] - ETA: 0s - loss: 0.1457 - accuracy: 0.9380\n",
            "Epoch 89: val_accuracy did not improve from 0.90827\n",
            "62/62 [==============================] - 22s 355ms/step - loss: 0.1457 - accuracy: 0.9380 - val_loss: 0.4468 - val_accuracy: 0.8589\n",
            "Epoch 90/100\n",
            "62/62 [==============================] - ETA: 0s - loss: 0.1409 - accuracy: 0.9497\n",
            "Epoch 90: val_accuracy did not improve from 0.90827\n",
            "62/62 [==============================] - 21s 346ms/step - loss: 0.1409 - accuracy: 0.9497 - val_loss: 0.3449 - val_accuracy: 0.8579\n",
            "Epoch 91/100\n",
            "62/62 [==============================] - ETA: 0s - loss: 0.1499 - accuracy: 0.9400\n",
            "Epoch 91: val_accuracy did not improve from 0.90827\n",
            "62/62 [==============================] - 23s 365ms/step - loss: 0.1499 - accuracy: 0.9400 - val_loss: 0.2743 - val_accuracy: 0.8952\n",
            "Epoch 92/100\n",
            "62/62 [==============================] - ETA: 0s - loss: 0.1439 - accuracy: 0.9441\n",
            "Epoch 92: val_accuracy did not improve from 0.90827\n",
            "62/62 [==============================] - 21s 344ms/step - loss: 0.1439 - accuracy: 0.9441 - val_loss: 0.2922 - val_accuracy: 0.8911\n",
            "Epoch 93/100\n",
            "62/62 [==============================] - ETA: 0s - loss: 0.1452 - accuracy: 0.9426\n",
            "Epoch 93: val_accuracy did not improve from 0.90827\n",
            "62/62 [==============================] - 22s 348ms/step - loss: 0.1452 - accuracy: 0.9426 - val_loss: 0.2453 - val_accuracy: 0.9022\n",
            "Epoch 94/100\n",
            "62/62 [==============================] - ETA: 0s - loss: 0.1513 - accuracy: 0.9360\n",
            "Epoch 94: val_accuracy did not improve from 0.90827\n",
            "62/62 [==============================] - 21s 347ms/step - loss: 0.1513 - accuracy: 0.9360 - val_loss: 0.2769 - val_accuracy: 0.8952\n",
            "Epoch 95/100\n",
            "62/62 [==============================] - ETA: 0s - loss: 0.1340 - accuracy: 0.9492\n",
            "Epoch 95: val_accuracy did not improve from 0.90827\n",
            "62/62 [==============================] - 21s 346ms/step - loss: 0.1340 - accuracy: 0.9492 - val_loss: 0.3852 - val_accuracy: 0.8649\n",
            "Epoch 96/100\n",
            "62/62 [==============================] - ETA: 0s - loss: 0.1360 - accuracy: 0.9416\n",
            "Epoch 96: val_accuracy did not improve from 0.90827\n",
            "62/62 [==============================] - 21s 346ms/step - loss: 0.1360 - accuracy: 0.9416 - val_loss: 0.3239 - val_accuracy: 0.8760\n",
            "Epoch 97/100\n",
            "62/62 [==============================] - ETA: 0s - loss: 0.1269 - accuracy: 0.9512\n",
            "Epoch 97: val_accuracy did not improve from 0.90827\n",
            "62/62 [==============================] - 21s 347ms/step - loss: 0.1269 - accuracy: 0.9512 - val_loss: 0.3812 - val_accuracy: 0.8730\n",
            "Epoch 98/100\n",
            "62/62 [==============================] - ETA: 0s - loss: 0.1483 - accuracy: 0.9385\n",
            "Epoch 98: val_accuracy did not improve from 0.90827\n",
            "62/62 [==============================] - 21s 344ms/step - loss: 0.1483 - accuracy: 0.9385 - val_loss: 0.4129 - val_accuracy: 0.8357\n",
            "Epoch 99/100\n",
            "62/62 [==============================] - ETA: 0s - loss: 0.1246 - accuracy: 0.9461\n",
            "Epoch 99: val_accuracy improved from 0.90827 to 0.91230, saving model to model_dogs_cats.hdf5\n",
            "62/62 [==============================] - 24s 393ms/step - loss: 0.1246 - accuracy: 0.9461 - val_loss: 0.2137 - val_accuracy: 0.9123\n",
            "Epoch 100/100\n",
            "62/62 [==============================] - ETA: 0s - loss: 0.1512 - accuracy: 0.9466\n",
            "Epoch 100: val_accuracy did not improve from 0.91230\n",
            "62/62 [==============================] - 22s 349ms/step - loss: 0.1512 - accuracy: 0.9466 - val_loss: 0.3002 - val_accuracy: 0.8760\n"
          ]
        }
      ]
    },
    {
      "cell_type": "code",
      "source": [
        "import matplotlib.pyplot as plt"
      ],
      "metadata": {
        "id": "4UrN6BOf_Fw0"
      },
      "execution_count": 20,
      "outputs": []
    },
    {
      "cell_type": "code",
      "source": [
        "plt.plot(hist.history['accuracy'], label = 'Train')\n",
        "plt.plot(hist.history['val_accuracy'], label = 'Val')\n",
        "plt.legend()\n",
        "plt.show()"
      ],
      "metadata": {
        "colab": {
          "base_uri": "https://localhost:8080/",
          "height": 265
        },
        "id": "Iy9-zYV8-6Nl",
        "outputId": "c96c58b7-6318-46ee-ccab-b676847e63bc"
      },
      "execution_count": 21,
      "outputs": [
        {
          "output_type": "display_data",
          "data": {
            "text/plain": [
              "<Figure size 432x288 with 1 Axes>"
            ],
            "image/png": "[encoded data removed]"
          },
          "metadata": {
            "needs_background": "light"
          }
        }
      ]
    },
    {
      "cell_type": "code",
      "source": [
        "test_generator = test_datagen.flow_from_directory('/gdrive/My Drive/dataset-cats-dogs/cats_and_dogs/test',\n",
        "                                   target_size=(150,150),\n",
        "                                   batch_size=32,\n",
        "                                   class_mode='binary'\n",
        "                                   )"
      ],
      "metadata": {
        "colab": {
          "base_uri": "https://localhost:8080/"
        },
        "id": "Ie5oLf8-VVC5",
        "outputId": "a6643805-9f48-44ec-ec7a-4d5f36aeec25"
      },
      "execution_count": 22,
      "outputs": [
        {
          "output_type": "stream",
          "name": "stdout",
          "text": [
            "Found 1000 images belonging to 2 classes.\n"
          ]
        }
      ]
    },
    {
      "cell_type": "code",
      "source": [
        "model2 = model"
      ],
      "metadata": {
        "id": "naxwGQsDVtEu"
      },
      "execution_count": 23,
      "outputs": []
    },
    {
      "cell_type": "code",
      "source": [
        "model2.load_weights('model_dogs_cats.hdf5')"
      ],
      "metadata": {
        "id": "FW-AjiRrVuly"
      },
      "execution_count": 24,
      "outputs": []
    },
    {
      "cell_type": "code",
      "source": [
        "model2.evaluate(test_generator)"
      ],
      "metadata": {
        "colab": {
          "base_uri": "https://localhost:8080/"
        },
        "id": "bwCqUJ6kV8ij",
        "outputId": "e7169096-101b-427e-e017-c250780aee2c"
      },
      "execution_count": 25,
      "outputs": [
        {
          "output_type": "stream",
          "name": "stdout",
          "text": [
            "32/32 [==============================] - 297s 10s/step - loss: 0.3301 - accuracy: 0.8730\n"
          ]
        },
        {
          "output_type": "execute_result",
          "data": {
            "text/plain": [
              "[0.33007702231407166, 0.8730000257492065]"
            ]
          },
          "metadata": {},
          "execution_count": 25
        }
      ]
    },
    {
      "cell_type": "markdown",
      "source": [
        "# As we can see, our artificial intelligence model obtained an accuracy of 87.3% in the final evaluation with our test images. Thank you."
      ],
      "metadata": {
        "id": "NrMf3fP5YFRA"
      }
    }
  ]
}